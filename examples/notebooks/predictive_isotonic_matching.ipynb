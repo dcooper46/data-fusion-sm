{
 "nbformat": 4,
 "nbformat_minor": 2,
 "metadata": {
  "language_info": {
   "name": "python",
   "codemirror_mode": {
    "name": "ipython",
    "version": 3
   },
   "version": "3.7.3-final"
  },
  "orig_nbformat": 2,
  "file_extension": ".py",
  "mimetype": "text/x-python",
  "name": "python",
  "npconvert_exporter": "python",
  "pygments_lexer": "ipython3",
  "version": 3,
  "kernelspec": {
   "name": "python37364bitdfsmvenvvenv67a13c90684a4ef7a0196f8cb49902e6",
   "display_name": "Python 3.7.3 64-bit ('dfsm-venv': venv)"
  }
 },
 "cells": [
  {
   "cell_type": "code",
   "execution_count": 1,
   "metadata": {},
   "outputs": [],
   "source": [
    "from datafusionsm.datasets import load_online_survey, load_tv_panel"
   ]
  },
  {
   "cell_type": "code",
   "execution_count": 4,
   "metadata": {},
   "outputs": [
    {
     "output_type": "execute_result",
     "data": {
      "text/plain": "     age gender children  marital\n0  45-64      M        0  married\n1  45-64      F        0  married\n2  35-44      F        2  married\n3  35-44      M        2  married\n4  45-64      F        0  married",
      "text/html": "<div>\n<style scoped>\n    .dataframe tbody tr th:only-of-type {\n        vertical-align: middle;\n    }\n\n    .dataframe tbody tr th {\n        vertical-align: top;\n    }\n\n    .dataframe thead th {\n        text-align: right;\n    }\n</style>\n<table border=\"1\" class=\"dataframe\">\n  <thead>\n    <tr style=\"text-align: right;\">\n      <th></th>\n      <th>age</th>\n      <th>gender</th>\n      <th>children</th>\n      <th>marital</th>\n    </tr>\n  </thead>\n  <tbody>\n    <tr>\n      <th>0</th>\n      <td>45-64</td>\n      <td>M</td>\n      <td>0</td>\n      <td>married</td>\n    </tr>\n    <tr>\n      <th>1</th>\n      <td>45-64</td>\n      <td>F</td>\n      <td>0</td>\n      <td>married</td>\n    </tr>\n    <tr>\n      <th>2</th>\n      <td>35-44</td>\n      <td>F</td>\n      <td>2</td>\n      <td>married</td>\n    </tr>\n    <tr>\n      <th>3</th>\n      <td>35-44</td>\n      <td>M</td>\n      <td>2</td>\n      <td>married</td>\n    </tr>\n    <tr>\n      <th>4</th>\n      <td>45-64</td>\n      <td>F</td>\n      <td>0</td>\n      <td>married</td>\n    </tr>\n  </tbody>\n</table>\n</div>"
     },
     "metadata": {},
     "execution_count": 4
    }
   ],
   "source": [
    "online_survey = load_online_survey()\n",
    "tv_panel = load_tv_panel()\n",
    "\n",
    "linking = online_survey.columns.intersection(tv_panel.columns).tolist()\n",
    "\n",
    "critical_cells = [\"age\", \"gender\"]\n",
    "target = \"income\"\n",
    "\n",
    "tv_panel[linking].head()"
   ]
  },
  {
   "cell_type": "code",
   "execution_count": 10,
   "metadata": {},
   "outputs": [
    {
     "output_type": "execute_result",
     "data": {
      "text/plain": "   panelist-id    age gender children marital      income\n0        31539  45-64      M        0  single  Bottom 25%\n1        43764  45-64      M        0  single     Top 25%\n2        35836  45-64      M        0  single     Mid 50%\n3        65011  45-64      M        0  single     Mid 50%\n4        62597  45-64      M        0  single     Top 25%",
      "text/html": "<div>\n<style scoped>\n    .dataframe tbody tr th:only-of-type {\n        vertical-align: middle;\n    }\n\n    .dataframe tbody tr th {\n        vertical-align: top;\n    }\n\n    .dataframe thead th {\n        text-align: right;\n    }\n</style>\n<table border=\"1\" class=\"dataframe\">\n  <thead>\n    <tr style=\"text-align: right;\">\n      <th></th>\n      <th>panelist-id</th>\n      <th>age</th>\n      <th>gender</th>\n      <th>children</th>\n      <th>marital</th>\n      <th>income</th>\n    </tr>\n  </thead>\n  <tbody>\n    <tr>\n      <th>0</th>\n      <td>31539</td>\n      <td>45-64</td>\n      <td>M</td>\n      <td>0</td>\n      <td>single</td>\n      <td>Bottom 25%</td>\n    </tr>\n    <tr>\n      <th>1</th>\n      <td>43764</td>\n      <td>45-64</td>\n      <td>M</td>\n      <td>0</td>\n      <td>single</td>\n      <td>Top 25%</td>\n    </tr>\n    <tr>\n      <th>2</th>\n      <td>35836</td>\n      <td>45-64</td>\n      <td>M</td>\n      <td>0</td>\n      <td>single</td>\n      <td>Mid 50%</td>\n    </tr>\n    <tr>\n      <th>3</th>\n      <td>65011</td>\n      <td>45-64</td>\n      <td>M</td>\n      <td>0</td>\n      <td>single</td>\n      <td>Mid 50%</td>\n    </tr>\n    <tr>\n      <th>4</th>\n      <td>62597</td>\n      <td>45-64</td>\n      <td>M</td>\n      <td>0</td>\n      <td>single</td>\n      <td>Top 25%</td>\n    </tr>\n  </tbody>\n</table>\n</div>"
     },
     "metadata": {},
     "execution_count": 10
    }
   ],
   "source": [
    "from datafusionsm.implicit_model import PIM\n",
    "\n",
    "pim = PIM(target)\n",
    "\n",
    "pim.fit(online_survey, tv_panel, linking=linking, critical=critical_cells)\n",
    "fused_pim = pim.transform(online_survey, tv_panel)\n",
    "\n",
    "fused_pim[[\"panelist-id\"] + linking + [target]].head()"
   ]
  },
  {
   "cell_type": "code",
   "execution_count": 13,
   "metadata": {},
   "outputs": [
    {
     "output_type": "execute_result",
     "data": {
      "text/plain": "KL-Divergence               0.001472\nHellinger Distance          0.019067\nTotal Variation Distance    0.022917\nOverlap                     0.977083\ndtype: float64"
     },
     "metadata": {},
     "execution_count": 13
    }
   ],
   "source": [
    "from datafusionsm.evaluation import compare_dists\n",
    "\n",
    "measured_inc = online_survey[\"income\"].value_counts() / online_survey.shape[0]\n",
    "fused_pim_inc = fused_pim[\"income\"].value_counts() / fused_pim.shape[0]\n",
    "\n",
    "compare_dists(measured_inc, fused_pim_inc)"
   ]
  },
  {
   "cell_type": "code",
   "execution_count": null,
   "metadata": {},
   "outputs": [],
   "source": []
  }
 ]
}