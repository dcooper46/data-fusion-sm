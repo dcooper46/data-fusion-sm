{
 "cells": [
  {
   "cell_type": "markdown",
   "metadata": {},
   "source": [
    "### Setup"
   ]
  },
  {
   "cell_type": "code",
   "execution_count": 3,
   "metadata": {},
   "outputs": [],
   "source": [
    "import pandas as pd\n",
    "\n",
    "survey = pd.read_csv(\"./data/online-survey.csv\")\n",
    "panel = pd.read_csv(\"./data/tv-panel.csv\")\n",
    "\n",
    "linking = survey.columns.intersection(panel.columns).tolist()\n",
    "\n",
    "critical_cells = [\"age\", \"gender\"]\n",
    "target = \"income\""
   ]
  },
  {
   "cell_type": "markdown",
   "metadata": {},
   "source": [
    "#### Predictive Mean Matching"
   ]
  },
  {
   "cell_type": "code",
   "execution_count": 6,
   "metadata": {},
   "outputs": [],
   "source": [
    "from datafusionsm.implicit_model import PMM\n",
    "\n",
    "pmm = PMM(\"income\")\n",
    "\n",
    "pmm.fit(survey, panel, linking=linking, critical=critical_cells)\n",
    "fused_pmm = pmm.transform(survey, panel)\n",
    "\n",
    "fused_pmm[[\"panelist-id\"] + linking + [target]].head()"
   ]
  },
  {
   "cell_type": "markdown",
   "metadata": {},
   "source": [
    "#### Evaluate Results"
   ]
  },
  {
   "cell_type": "code",
   "execution_count": 9,
   "metadata": {},
   "outputs": [],
   "source": [
    "from datafusionsm.evaluation import compare_distributions\n",
    "measured_inc = survey[\"income\"].value_counts() / survey.shape[0]"
   ]
  },
  {
   "cell_type": "code",
   "execution_count": 11,
   "metadata": {},
   "outputs": [
    {
     "data": {
      "text/plain": [
       "KL-Divergence               0.003988\n",
       "Hellinger Distance          0.031628\n",
       "Total Variation Distance    0.033424\n",
       "Overlap                     0.966576\n",
       "dtype: float64"
      ]
     },
     "execution_count": 11,
     "metadata": {},
     "output_type": "execute_result"
    }
   ],
   "source": [
    "fused_pmm_inc = fused_pmm[\"income\"].value_counts() / fused_pmm.shape[0]\n",
    "compare_distributions(measured_inc, fused_pmm_inc)"
   ]
  },
  {
   "cell_type": "code",
   "execution_count": 13,
   "metadata": {},
   "outputs": [
    {
     "data": {
      "text/plain": [
       "0.056434284789939435"
      ]
     },
     "execution_count": 13,
     "metadata": {},
     "output_type": "execute_result"
    }
   ],
   "source": [
    "sum(pmm.results[\"income\"][\"scores\"]) / len(pmm.results[\"income\"][\"scores\"])"
   ]
  }
 ],
 "metadata": {
  "kernelspec": {
   "display_name": "spine-fusion-service-venv",
   "language": "python",
   "name": "spine-fusion-service-venv"
  },
  "language_info": {
   "codemirror_mode": {
    "name": "ipython",
    "version": 3
   },
   "file_extension": ".py",
   "mimetype": "text/x-python",
   "name": "python",
   "nbconvert_exporter": "python",
   "pygments_lexer": "ipython3",
   "version": "3.7.3"
  }
 },
 "nbformat": 4,
 "nbformat_minor": 2
}