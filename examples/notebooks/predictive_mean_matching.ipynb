{
 "cells": [
  {
   "cell_type": "markdown",
   "metadata": {},
   "source": [
    "### Setup"
   ]
  },
  {
   "cell_type": "code",
   "execution_count": 1,
   "metadata": {},
   "outputs": [],
   "source": [
    "from datafusionsm.datasets import load_online_survey, load_tv_panel\n",
    "\n",
    "survey = load_online_survey()\n",
    "panel = load_tv_panel()\n",
    "\n",
    "linking = survey.columns.intersection(panel.columns).tolist()\n",
    "\n",
    "critical_cells = [\"age\", \"gender\"]\n",
    "target = \"income\""
   ]
  },
  {
   "cell_type": "markdown",
   "metadata": {},
   "source": [
    "#### Predictive Mean Matching"
   ]
  },
  {
   "cell_type": "code",
   "execution_count": 2,
   "metadata": {},
   "outputs": [
    {
     "output_type": "execute_result",
     "data": {
      "text/plain": "   panelist-id    age gender children  marital             income\n0        61913  45-64      M        0  married            Top 25%\n1        17173  45-64      M        0  married            Mid 50%\n2        62118  45-64      M        0  married  Prefer not to say\n3        72817  45-64      M        0  married            Mid 50%\n4        92177  45-64      M        0  married            Mid 50%",
      "text/html": "<div>\n<style scoped>\n    .dataframe tbody tr th:only-of-type {\n        vertical-align: middle;\n    }\n\n    .dataframe tbody tr th {\n        vertical-align: top;\n    }\n\n    .dataframe thead th {\n        text-align: right;\n    }\n</style>\n<table border=\"1\" class=\"dataframe\">\n  <thead>\n    <tr style=\"text-align: right;\">\n      <th></th>\n      <th>panelist-id</th>\n      <th>age</th>\n      <th>gender</th>\n      <th>children</th>\n      <th>marital</th>\n      <th>income</th>\n    </tr>\n  </thead>\n  <tbody>\n    <tr>\n      <th>0</th>\n      <td>61913</td>\n      <td>45-64</td>\n      <td>M</td>\n      <td>0</td>\n      <td>married</td>\n      <td>Top 25%</td>\n    </tr>\n    <tr>\n      <th>1</th>\n      <td>17173</td>\n      <td>45-64</td>\n      <td>M</td>\n      <td>0</td>\n      <td>married</td>\n      <td>Mid 50%</td>\n    </tr>\n    <tr>\n      <th>2</th>\n      <td>62118</td>\n      <td>45-64</td>\n      <td>M</td>\n      <td>0</td>\n      <td>married</td>\n      <td>Prefer not to say</td>\n    </tr>\n    <tr>\n      <th>3</th>\n      <td>72817</td>\n      <td>45-64</td>\n      <td>M</td>\n      <td>0</td>\n      <td>married</td>\n      <td>Mid 50%</td>\n    </tr>\n    <tr>\n      <th>4</th>\n      <td>92177</td>\n      <td>45-64</td>\n      <td>M</td>\n      <td>0</td>\n      <td>married</td>\n      <td>Mid 50%</td>\n    </tr>\n  </tbody>\n</table>\n</div>"
     },
     "metadata": {},
     "execution_count": 2
    }
   ],
   "source": [
    "from datafusionsm.implicit_model import PMM\n",
    "\n",
    "pmm = PMM(\"income\")\n",
    "\n",
    "pmm.fit(survey, panel, linking=linking, critical=critical_cells)\n",
    "fused_pmm = pmm.transform(survey, panel)\n",
    "\n",
    "fused_pmm[[\"panelist-id\"] + linking + [target]].head()"
   ]
  },
  {
   "cell_type": "markdown",
   "metadata": {},
   "source": [
    "#### Evaluate Results"
   ]
  },
  {
   "cell_type": "code",
   "execution_count": 3,
   "metadata": {},
   "outputs": [
    {
     "output_type": "execute_result",
     "data": {
      "text/plain": "KL-Divergence               0.004046\nHellinger Distance          0.031722\nTotal Variation Distance    0.032417\nOverlap                     0.967583\ndtype: float64"
     },
     "metadata": {},
     "execution_count": 3
    }
   ],
   "source": [
    "from datafusionsm.evaluation import compare_dists\n",
    "\n",
    "measured_inc = survey[\"income\"].value_counts() / survey.shape[0]\n",
    "fused_pmm_inc = fused_pmm[\"income\"].value_counts() / fused_pmm.shape[0]\n",
    "compare_dists(measured_inc, fused_pmm_inc)"
   ]
  },
  {
   "cell_type": "code",
   "execution_count": 4,
   "metadata": {},
   "outputs": [
    {
     "output_type": "execute_result",
     "data": {
      "text/plain": "0.03879369957427439"
     },
     "metadata": {},
     "execution_count": 4
    }
   ],
   "source": [
    "sum(pmm.results[\"income\"][\"scores\"]) / len(pmm.results[\"income\"][\"scores\"])"
   ]
  }
 ],
 "metadata": {
  "kernelspec": {
   "display_name": "Python 3.7.3 64-bit ('dfsm-venv': venv)",
   "language": "python",
   "name": "python37364bitdfsmvenvvenv67a13c90684a4ef7a0196f8cb49902e6"
  },
  "language_info": {
   "codemirror_mode": {
    "name": "ipython",
    "version": 3
   },
   "file_extension": ".py",
   "mimetype": "text/x-python",
   "name": "python",
   "nbconvert_exporter": "python",
   "pygments_lexer": "ipython3",
   "version": "3.7.3-final"
  }
 },
 "nbformat": 4,
 "nbformat_minor": 2
}