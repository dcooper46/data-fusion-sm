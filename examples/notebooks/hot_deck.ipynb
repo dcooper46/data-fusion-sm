{
 "cells": [
  {
   "cell_type": "markdown",
   "metadata": {},
   "outputs": [],
   "source": [
    "###  This example shows how to use data-fusion-sm to join two data sources with the goal of sharing information.\n",
    "\n",
    "A typical use case for this arises when a researcher wants to supplement available data with information not measured in the current study.  \n",
    "\n",
    "For instance, consider a purchase prediction model built using purchasing behavior. Television ads are known to affect purchasing behavior, so it may be helpful to include tv viewing behavior or ad viewing history in the model to improve accuracy.  This information is measured in a separate data source.  Fusing the purchasing data with the viewing data will create a more robust and informative data source to train the prediction model on, improving its accuracy/usefulness.  \n",
    "\n",
    "In this example, we join an online behavior survey to a tv viewing panel.  The tv panel doesn't have viewing behavior in this example, but some useful characteristics that are not measured in the survey.  Also, the tv panel doesn't have Income as a measured feature, but the survey does.  It would be useful to share information across these sources to enrich aggregate insights derived from either."
   ]
  },
  {
   "cell_type": "code",
   "metadata": {},
   "outputs": [],
   "source": [
    "from datafusionsm.datasets import load_online_survey, load_tv_panel\n",
    "\n",
    "survey = load_online_survey()\n",
    "panel = load_tv_panel()"
   ],
   "execution_count": 1
  },
  {
   "cell_type": "markdown",
   "metadata": {},
   "outputs": [],
   "source": [
    "A key requirement for implicit fusion is a set of overlaping features that were measured in both data sources.  The values of these features must be uniform between them as well. Let's see whats available, and check their values. "
   ]
  },
  {
   "cell_type": "code",
   "metadata": {},
   "outputs": [
    {
     "output_type": "stream",
     "name": "stdout",
     "text": "['age', 'gender', 'children', 'marital']\nage values:= survey: ['16-24', '25-34', '35-44', '45-64'], panel: ['16-24', '25-34', '35-44', '45-64']\ngender values:= survey: ['F', 'M'], panel: ['F', 'M']\nchildren values:= survey: ['0', '1', '2', '3+'], panel: ['0', '1', '2', '3+']\nmarital values:= survey: ['married', 'single'], panel: ['married', 'single']\n"
    }
   ],
   "source": [
    "linking = survey.columns.intersection(panel.columns).tolist()\n",
    "print(linking)\n",
    "\n",
    "for l in linking:\n",
    "    print(f\"{l} values:= survey: {sorted(survey[l].unique())}, panel: {sorted(panel[l].unique())}\")"
   ],
   "execution_count": 2
  },
  {
   "cell_type": "markdown",
   "metadata": {},
   "outputs": [],
   "source": [
    "We can see there are 4 linking variables, and the possible values align between the data sources.  Ordinarily, there will be more common variables and a selection process should determine which are used for fusion.  Here, we can use all of them."
   ]
  },
  {
   "cell_type": "markdown",
   "metadata": {},
   "outputs": [],
   "source": [
    "---"
   ]
  },
  {
   "cell_type": "markdown",
   "metadata": {},
   "outputs": [],
   "source": [
    "When matching person records based on demographics, it is a common desire to avoid nonsensical situations where respondents of different particular demographic groups are matched together. \n",
    "\n",
    "This depends on the data and analysis being done, but situations such as matching an 18-yr old male to a 65-yr old female are often undesireable.  To avoid this, _`critical cells`_ are created within which all records have the same values for a particular set of fields.  Matching is then done within the cell on the remaining features.  A common choice in marketing is `age` and `gender`."
   ]
  },
  {
   "cell_type": "code",
   "metadata": {},
   "outputs": [],
   "source": [
    "critical_cells = [\"age\", \"gender\"]"
   ],
   "execution_count": 3
  },
  {
   "cell_type": "markdown",
   "metadata": {},
   "outputs": [],
   "source": [
    "To perform the actual \"fusion\", we use the main `HotDeck` class from the `fusion.custom.implicit_model` module.  Currently, this is the only implicit model offered.  We also set `income` as the target variable of interest we want to donate from `survey` to `panel`."
   ]
  },
  {
   "cell_type": "code",
   "metadata": {},
   "outputs": [],
   "source": [
    "from datafusionsm.implicit_model import HotDeck\n",
    "target = \"income\""
   ],
   "execution_count": 4
  },
  {
   "cell_type": "markdown",
   "metadata": {},
   "outputs": [],
   "source": [
    "Let's first run a model with the default parameters:  \n",
    ">method=nearest  \n",
    ">score_method=cosine  \n",
    ">minimize=True  \n",
    ">importance=None (no importance weights)"
   ]
  },
  {
   "cell_type": "code",
   "metadata": {},
   "outputs": [
    {
     "output_type": "execute_result",
     "data": {
      "text/plain": "   panelist-id    age gender children  marital   income\n0        61913  45-64      M        0  married  Mid 50%\n1        17173  45-64      M        0  married  Mid 50%\n2        62118  45-64      M        0  married  Mid 50%\n3        72817  45-64      M        0  married  Mid 50%\n4        92177  45-64      M        0  married  Mid 50%",
      "text/html": "<div>\n<style scoped>\n    .dataframe tbody tr th:only-of-type {\n        vertical-align: middle;\n    }\n\n    .dataframe tbody tr th {\n        vertical-align: top;\n    }\n\n    .dataframe thead th {\n        text-align: right;\n    }\n</style>\n<table border=\"1\" class=\"dataframe\">\n  <thead>\n    <tr style=\"text-align: right;\">\n      <th></th>\n      <th>panelist-id</th>\n      <th>age</th>\n      <th>gender</th>\n      <th>children</th>\n      <th>marital</th>\n      <th>income</th>\n    </tr>\n  </thead>\n  <tbody>\n    <tr>\n      <th>0</th>\n      <td>61913</td>\n      <td>45-64</td>\n      <td>M</td>\n      <td>0</td>\n      <td>married</td>\n      <td>Mid 50%</td>\n    </tr>\n    <tr>\n      <th>1</th>\n      <td>17173</td>\n      <td>45-64</td>\n      <td>M</td>\n      <td>0</td>\n      <td>married</td>\n      <td>Mid 50%</td>\n    </tr>\n    <tr>\n      <th>2</th>\n      <td>62118</td>\n      <td>45-64</td>\n      <td>M</td>\n      <td>0</td>\n      <td>married</td>\n      <td>Mid 50%</td>\n    </tr>\n    <tr>\n      <th>3</th>\n      <td>72817</td>\n      <td>45-64</td>\n      <td>M</td>\n      <td>0</td>\n      <td>married</td>\n      <td>Mid 50%</td>\n    </tr>\n    <tr>\n      <th>4</th>\n      <td>92177</td>\n      <td>45-64</td>\n      <td>M</td>\n      <td>0</td>\n      <td>married</td>\n      <td>Mid 50%</td>\n    </tr>\n  </tbody>\n</table>\n</div>"
     },
     "metadata": {},
     "execution_count": 5
    }
   ],
   "source": [
    "hd = HotDeck() \n",
    "hd.fit(survey, panel, linking=linking, critical=critical_cells)\n",
    "fused = hd.transform(survey, panel, target=target)\n",
    "fused[[\"panelist-id\"] + linking + [target]].head()"
   ],
   "execution_count": 5
  },
  {
   "cell_type": "markdown",
   "metadata": {},
   "outputs": [],
   "source": [
    "We can see the donanted `income` value in the tv panel.  One can now treat this variable as if it were actually measured in the panel.  \n",
    "\n",
    "A quick way to evaluate the fusion results is to look at how well preserved the donated information is post-fusion; i.e. does the `income` variable maintain a similar distribution as measured in the survey after being donated to the panel?  We can use `datafusionsm.evaluation.compare_distributions(p, q)` as a check."
   ]
  },
  {
   "cell_type": "code",
   "metadata": {},
   "outputs": [
    {
     "output_type": "execute_result",
     "data": {
      "text/plain": "KL-Divergence               0.004285\nHellinger Distance          0.032555\nTotal Variation Distance    0.033000\nOverlap                     0.967000\ndtype: float64"
     },
     "metadata": {},
     "execution_count": 6
    }
   ],
   "source": [
    "from datafusionsm.evaluation import compare_dists\n",
    "\n",
    "measured_inc = survey[\"income\"].value_counts() / survey.shape[0]\n",
    "fused_inc = fused[\"income\"].value_counts() / fused.shape[0]\n",
    "\n",
    "compare_dists(measured_inc, fused_inc)"
   ],
   "execution_count": 6
  },
  {
   "cell_type": "markdown",
   "metadata": {},
   "outputs": [],
   "source": [
    "From the above summary, we can see we recapture the `income` variable pretty well - as shown by the high degree of `Overlap` and the relatively small distances between the distributions.  This means we can be pretty confident when using `income` from the adjusted panel moving foward."
   ]
  },
  {
   "cell_type": "markdown",
   "metadata": {},
   "outputs": [],
   "source": [
    "Another way to evaluate the fusion results is to inspect the matches themselves and see how close we were on average with respect to the linking variables and scores.  Since `age` and `gender` were critical cells, let's only loook at `children` and `marital`."
   ]
  },
  {
   "cell_type": "code",
   "metadata": {},
   "outputs": [
    {
     "output_type": "stream",
     "name": "stdout",
     "text": "children:\n\n          0    1    2  3+  recipient\n0      2606    0    0   0       2606\n1         0  925    0   0        925\n2         0    0  456   0        456\n3+        0    0    0  13         13\ndonor  2606  925  456  13       4000\n\n\n\tacc:\t1.0\n\n\tdonor/recip\t0\t1\t2\t3+\n\n\n\t\t\t1.0\t1.0\t1.0\t1.0\n\n\n\nmarital:\n\n        married single  recipient\nmarried    2521      0       2521\nsingle        1   1478       1479\ndonor      2522   1478       4000\n\n\n\tacc:\t0.9998\n\n\tdonor/recip\tmarried\tsingle\n\n\n\t\t\t1.0004\t0.9993\n\n\n\n"
    }
   ],
   "source": [
    "from datafusionsm.evaluation import match_accuracy\n",
    "summary, results = match_accuracy(hd.matches, survey, panel, [\"children\", \"marital\"])\n",
    "print(summary)"
   ],
   "execution_count": 7
  },
  {
   "cell_type": "markdown",
   "metadata": {},
   "outputs": [],
   "source": [
    "We can see we did pretty well ensuring close matches.  "
   ]
  }
 ],
 "metadata": {
  "kernelspec": {
   "display_name": "dfsm-venv",
   "language": "python",
   "name": "dfsm-venv"
  },
  "language_info": {
   "codemirror_mode": {
    "name": "ipython",
    "version": 3
   },
   "file_extension": ".py",
   "mimetype": "text/x-python",
   "name": "python",
   "nbconvert_exporter": "python",
   "pygments_lexer": "ipython3",
   "version": "3.7.3-final"
  }
 },
 "nbformat": 4,
 "nbformat_minor": 2
}