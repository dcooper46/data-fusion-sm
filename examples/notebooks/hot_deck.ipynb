{
 "cells": [
  {
   "cell_type": "markdown",
   "metadata": {},
   "source": [
    "#  This example shows how to use the fusion library to join two external 3rd party data sources with the goal of sharing information.\n",
    "\n",
    "A typical use case for this arises when a researcher wants to supplement available data with information not measured in the current study.  \n",
    "\n",
    "For instance, consider a purchase prediction model built using purchasing behavior. Television ads are known to affect purchasing behavior, so it may be helpful to include tv viewing behavior or ad viewing history in the model to improve accuracy.  This information is measured in a separate data source.  Fusing the purchasing data with the viewing data will create a more robust and informative data source to train the prediction model on, improving its accuracy/usefulness.  \n",
    "\n",
    "In this example, we join a GWI online behavior survey to a BARB tv viewing panel.  The BARB panel doesn't have viewing behavior, but some useful characteristics that are not measured in the GWI survey.  Also, the BARB panel doesn't have Income as a measured feature, but GWI does.  It would be useful to share information across these sources to enrich aggregate insights derived from either."
   ]
  },
  {
   "cell_type": "code",
   "execution_count": 1,
   "metadata": {},
   "outputs": [],
   "source": [
    "import pandas as pd\n",
    "\n",
    "survey = pd.read_csv(\"./data/online-survey.csv\")\n",
    "panel = pd.read_csv(\"./data/tv-panel.csv\")"
   ]
  },
  {
   "cell_type": "markdown",
   "metadata": {},
   "source": [
    "A key requirement for implicit fusion is a set of overlaping features that were measured in both data sources.  The values of these features must be uniform between them as well. Let's see whats available, and check their values. "
   ]
  },
  {
   "cell_type": "code",
   "execution_count": 2,
   "metadata": {},
   "outputs": [
    {
     "name": "stdout",
     "output_type": "stream",
     "text": [
      "['age', 'gender', 'children', 'marital']\n",
      "age values:= gwi: ['16-24', '25-34', '35-44', '45-64'], barb: ['16-24', '25-34', '35-44', '45-64']\n",
      "gender values:= gwi: ['F', 'M'], barb: ['F', 'M']\n",
      "children values:= gwi: ['0', '1', '2', '3+'], barb: ['0', '1', '2', '3+']\n",
      "marital values:= gwi: ['married', 'single'], barb: ['married', 'single']\n"
     ]
    }
   ],
   "source": [
    "linking = survey.columns.intersection(panel.columns).tolist()\n",
    "print(linking)\n",
    "\n",
    "for l in linking:\n",
    "    print(f\"{l} values:= gwi: {sorted(survey[l].unique())}, barb: {sorted(panel[l].unique())}\")"
   ]
  },
  {
   "cell_type": "markdown",
   "metadata": {},
   "source": [
    "We can see there are 4 linking variables, and the possible values align between the data sources.  Ordinarily, there will be more common variables and a selection process should determine which are used for fusion.  Here, we can use all of them."
   ]
  },
  {
   "cell_type": "markdown",
   "metadata": {},
   "source": [
    "---"
   ]
  },
  {
   "cell_type": "markdown",
   "metadata": {},
   "source": [
    "When matching person records based on demographics, it is a common desire to avoid nonsensical situations where respondents of different particular demographic groups are matched together. \n",
    "\n",
    "This depends on the data and analysis being done, but situations such as matching an 18-yr old male to a 65-yr old female are often undesireable.  To avoid this, _`critical cells`_ are created within which all records have the same values for a particular set of fields.  Matching is then done within the cell on the remaining features.  A common choice in marketing is `age` and `gender`."
   ]
  },
  {
   "cell_type": "code",
   "execution_count": 3,
   "metadata": {},
   "outputs": [],
   "source": [
    "critical_cells = [\"age\", \"gender\"]"
   ]
  },
  {
   "cell_type": "markdown",
   "metadata": {},
   "source": [
    "To perform the actual \"fusion\", we use the main `HotDeck` class from the `fusion.custom.implicit_model` module.  Currently, this is the only implicit model offered.  We also set `income` as the target variable of interest we want to donate from `gwi` to `barb`."
   ]
  },
  {
   "cell_type": "code",
   "execution_count": 4,
   "metadata": {},
   "outputs": [],
   "source": [
    "from datafusionsm.implicit_model import HotDeck\n",
    "target = \"income\""
   ]
  },
  {
   "cell_type": "markdown",
   "metadata": {},
   "source": [
    "Let's first run a model with the default parameters:  \n",
    ">method=nearest  \n",
    ">score_method=cosine  \n",
    ">minimize=True  \n",
    ">importance=None (no importance weights)"
   ]
  },
  {
   "cell_type": "code",
   "execution_count": 5,
   "metadata": {},
   "outputs": [
    {
     "data": {
      "text/html": [
       "<div>\n",
       "<style scoped>\n",
       "    .dataframe tbody tr th:only-of-type {\n",
       "        vertical-align: middle;\n",
       "    }\n",
       "\n",
       "    .dataframe tbody tr th {\n",
       "        vertical-align: top;\n",
       "    }\n",
       "\n",
       "    .dataframe thead th {\n",
       "        text-align: right;\n",
       "    }\n",
       "</style>\n",
       "<table border=\"1\" class=\"dataframe\">\n",
       "  <thead>\n",
       "    <tr style=\"text-align: right;\">\n",
       "      <th></th>\n",
       "      <th>ViewerID</th>\n",
       "      <th>age</th>\n",
       "      <th>gender</th>\n",
       "      <th>children</th>\n",
       "      <th>marital</th>\n",
       "      <th>income</th>\n",
       "    </tr>\n",
       "  </thead>\n",
       "  <tbody>\n",
       "    <tr>\n",
       "      <th>0</th>\n",
       "      <td>548-1</td>\n",
       "      <td>45-64</td>\n",
       "      <td>M</td>\n",
       "      <td>0</td>\n",
       "      <td>married</td>\n",
       "      <td>Top 25%</td>\n",
       "    </tr>\n",
       "    <tr>\n",
       "      <th>1</th>\n",
       "      <td>1074-2</td>\n",
       "      <td>45-64</td>\n",
       "      <td>M</td>\n",
       "      <td>0</td>\n",
       "      <td>married</td>\n",
       "      <td>Bottom 25%</td>\n",
       "    </tr>\n",
       "    <tr>\n",
       "      <th>2</th>\n",
       "      <td>1103-2</td>\n",
       "      <td>45-64</td>\n",
       "      <td>M</td>\n",
       "      <td>0</td>\n",
       "      <td>married</td>\n",
       "      <td>Top 25%</td>\n",
       "    </tr>\n",
       "    <tr>\n",
       "      <th>3</th>\n",
       "      <td>1268-1</td>\n",
       "      <td>45-64</td>\n",
       "      <td>M</td>\n",
       "      <td>0</td>\n",
       "      <td>married</td>\n",
       "      <td>Mid 50%</td>\n",
       "    </tr>\n",
       "    <tr>\n",
       "      <th>4</th>\n",
       "      <td>1301-1</td>\n",
       "      <td>45-64</td>\n",
       "      <td>M</td>\n",
       "      <td>0</td>\n",
       "      <td>married</td>\n",
       "      <td>Top 25%</td>\n",
       "    </tr>\n",
       "  </tbody>\n",
       "</table>\n",
       "</div>"
      ],
      "text/plain": [
       "  ViewerID    age gender children  marital      income\n",
       "0    548-1  45-64      M        0  married     Top 25%\n",
       "1   1074-2  45-64      M        0  married  Bottom 25%\n",
       "2   1103-2  45-64      M        0  married     Top 25%\n",
       "3   1268-1  45-64      M        0  married     Mid 50%\n",
       "4   1301-1  45-64      M        0  married     Top 25%"
      ]
     },
     "execution_count": 5,
     "metadata": {},
     "output_type": "execute_result"
    }
   ],
   "source": [
    "hd = HotDeck() \n",
    "hd.fit(survey, panel, linking=linking, critical=critical_cells)\n",
    "fused = hd.transform(survey, panel, target=target)\n",
    "fused[[\"panelist-id\"] + linking + [target]].head()"
   ]
  },
  {
   "cell_type": "markdown",
   "metadata": {},
   "source": [
    "We can see the donanted `income` value in the BARB panel.  One can now treat this variable as if it were actually measured in the panel.  \n",
    "\n",
    "A quick way to evaluate the fusion results is to look at how well preserved the donated information is post-fusion; i.e. does the `income` variable maintain a similar distribution as measured in GWI after being donated to BARB?  We can use `fusion.evaluation.compare_distributions.compare_distributions(p, q)` as a check."
   ]
  },
  {
   "cell_type": "code",
   "execution_count": 6,
   "metadata": {},
   "outputs": [
    {
     "data": {
      "text/plain": [
       "KL-Divergence               0.004165\n",
       "Hellinger Distance          0.032141\n",
       "Total Variation Distance    0.033679\n",
       "Overlap                     0.966321\n",
       "dtype: float64"
      ]
     },
     "execution_count": 6,
     "metadata": {},
     "output_type": "execute_result"
    }
   ],
   "source": [
    "from datafusionsm.evaluation import compare_distributions\n",
    "\n",
    "measured_inc = survey[\"income\"].value_counts() / survey.shape[0]\n",
    "fused_inc = fused[\"income\"].value_counts() / fused.shape[0]\n",
    "\n",
    "compare_distributions(measured_inc, fused_inc)"
   ]
  },
  {
   "cell_type": "markdown",
   "metadata": {},
   "source": [
    "From the above summary, we can see we recapture the `income` variable pretty well - as shown by the high degree of `Overlap` and the relatively small distances between the distributions.  This means we can be pretty confident when using `income` from the adjusted panel moving foward."
   ]
  },
  {
   "cell_type": "markdown",
   "metadata": {},
   "source": [
    "Another way to evaluate the fusion results is to inspect the matches themselves and see how close we were on average with respect to the linking variables and scores.  Since `age` and `gender` were critical cells, let's only loook at `children` and `marital`."
   ]
  },
  {
   "cell_type": "code",
   "execution_count": 7,
   "metadata": {},
   "outputs": [
    {
     "name": "stdout",
     "output_type": "stream",
     "text": [
      "children:\n",
      "\n",
      "          0     1    2  3+  recipient\n",
      "0      5000     0    0   0       5000\n",
      "1         0  1868    0   0       1868\n",
      "2         0     0  913   0        913\n",
      "3+        0     0    0  53         53\n",
      "donor  5000  1868  913  53       7834\n",
      "\n",
      "\n",
      "\tacc:\t1.0\n",
      "\n",
      "\tdonor/recip\t0\t1\t2\t3+\n",
      "\n",
      "\n",
      "\t\t\t1.0\t1.0\t1.0\t1.0\n",
      "\n",
      "\n",
      "\n",
      "marital:\n",
      "\n",
      "        married single  recipient\n",
      "married    4951      0       4951\n",
      "single        0   2883       2883\n",
      "donor      4951   2883       7834\n",
      "\n",
      "\n",
      "\tacc:\t1.0\n",
      "\n",
      "\tdonor/recip\tmarried\tsingle\n",
      "\n",
      "\n",
      "\t\t\t1.0\t1.0\n",
      "\n",
      "\n",
      "\n"
     ]
    }
   ],
   "source": [
    "from fusion.evaluation import demo_accuracy\n",
    "\n",
    "summary, results = demo_accuracy(hd.matches, gwi, barb, [\"children\", \"marital\"])\n",
    "print(summary)"
   ]
  },
  {
   "cell_type": "markdown",
   "metadata": {},
   "source": [
    "We can see we did pretty well ensuring close matches.  "
   ]
  }
 ],
 "metadata": {
  "kernelspec": {
   "display_name": "spine-fusion-service-venv",
   "language": "python",
   "name": "spine-fusion-service-venv"
  },
  "language_info": {
   "codemirror_mode": {
    "name": "ipython",
    "version": 3
   },
   "file_extension": ".py",
   "mimetype": "text/x-python",
   "name": "python",
   "nbconvert_exporter": "python",
   "pygments_lexer": "ipython3",
   "version": "3.7.3"
  }
 },
 "nbformat": 4,
 "nbformat_minor": 2
}