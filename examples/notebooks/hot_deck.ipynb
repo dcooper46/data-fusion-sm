{
 "cells": [
  {
   "cell_type": "markdown",
   "metadata": {},
   "outputs": [],
   "source": [
    "###  This example shows how to use data-fusion-sm to join two data sources with the goal of sharing information.\n",
    "\n",
    "A typical use case for this arises when a researcher wants to supplement available data with information not measured in the current study.  \n",
    "\n",
    "For instance, consider a purchase prediction model built using purchasing behavior. Television ads are known to affect purchasing behavior, so it may be helpful to include tv viewing behavior or ad viewing history in the model to improve accuracy.  This information is measured in a separate data source.  Fusing the purchasing data with the viewing data will create a more robust and informative data source to train the prediction model on, improving its accuracy/usefulness.  \n",
    "\n",
    "In this example, we join an online behavior survey to a tv viewing panel.  The tv panel doesn't have viewing behavior in this example, but some useful characteristics that are not measured in the survey.  Also, the tv panel doesn't have Income as a measured feature, but the survey does.  It would be useful to share information across these sources to enrich aggregate insights derived from either."
   ]
  },
  {
   "cell_type": "code",
   "metadata": {},
   "outputs": [],
   "source": [
    "import pandas as pd\n",
    "\n",
    "survey = pd.read_csv(\"./data/online-survey.csv\")\n",
    "panel = pd.read_csv(\"./data/tv-panel.csv\")"
   ]
  },
  {
   "cell_type": "markdown",
   "metadata": {},
   "outputs": [],
   "source": [
    "A key requirement for implicit fusion is a set of overlaping features that were measured in both data sources.  The values of these features must be uniform between them as well. Let's see whats available, and check their values. "
   ]
  },
  {
   "cell_type": "code",
   "metadata": {},
   "outputs": [],
   "source": [
    "linking = survey.columns.intersection(panel.columns).tolist()\n",
    "print(linking)\n",
    "\n",
    "for l in linking:\n",
    "    print(f\"{l} values:= survey: {sorted(survey[l].unique())}, panel: {sorted(panel[l].unique())}\")"
   ]
  },
  {
   "cell_type": "markdown",
   "metadata": {},
   "outputs": [],
   "source": [
    "We can see there are 4 linking variables, and the possible values align between the data sources.  Ordinarily, there will be more common variables and a selection process should determine which are used for fusion.  Here, we can use all of them."
   ]
  },
  {
   "cell_type": "markdown",
   "metadata": {},
   "outputs": [],
   "source": [
    "---"
   ]
  },
  {
   "cell_type": "markdown",
   "metadata": {},
   "outputs": [],
   "source": [
    "When matching person records based on demographics, it is a common desire to avoid nonsensical situations where respondents of different particular demographic groups are matched together. \n",
    "\n",
    "This depends on the data and analysis being done, but situations such as matching an 18-yr old male to a 65-yr old female are often undesireable.  To avoid this, _`critical cells`_ are created within which all records have the same values for a particular set of fields.  Matching is then done within the cell on the remaining features.  A common choice in marketing is `age` and `gender`."
   ]
  },
  {
   "cell_type": "code",
   "metadata": {},
   "outputs": [],
   "source": [
    "critical_cells = [\"age\", \"gender\"]"
   ]
  },
  {
   "cell_type": "markdown",
   "metadata": {},
   "outputs": [],
   "source": [
    "To perform the actual \"fusion\", we use the main `HotDeck` class from the `fusion.custom.implicit_model` module.  Currently, this is the only implicit model offered.  We also set `income` as the target variable of interest we want to donate from `gwi` to `barb`."
   ]
  },
  {
   "cell_type": "code",
   "metadata": {},
   "outputs": [],
   "source": [
    "from datafusionsm.implicit_model import HotDeck\n",
    "target = \"income\""
   ]
  },
  {
   "cell_type": "markdown",
   "metadata": {},
   "outputs": [],
   "source": [
    "Let's first run a model with the default parameters:  \n",
    ">method=nearest  \n",
    ">score_method=cosine  \n",
    ">minimize=True  \n",
    ">importance=None (no importance weights)"
   ]
  },
  {
   "cell_type": "code",
   "metadata": {},
   "outputs": [],
   "source": [
    "hd = HotDeck() \n",
    "hd.fit(survey, panel, linking=linking, critical=critical_cells)\n",
    "fused = hd.transform(survey, panel, target=target)\n",
    "fused[[\"panelist-id\"] + linking + [target]].head()"
   ]
  },
  {
   "cell_type": "markdown",
   "metadata": {},
   "outputs": [],
   "source": [
    "We can see the donanted `income` value in the tv panel.  One can now treat this variable as if it were actually measured in the panel.  \n",
    "\n",
    "A quick way to evaluate the fusion results is to look at how well preserved the donated information is post-fusion; i.e. does the `income` variable maintain a similar distribution as measured in the survey after being donated to the panel?  We can use `datafusionsm.evaluation.compare_distributions(p, q)` as a check."
   ]
  },
  {
   "cell_type": "code",
   "metadata": {},
   "outputs": [],
   "source": [
    "from datafusionsm.evaluation import compare_distributions\n",
    "\n",
    "measured_inc = survey[\"income\"].value_counts() / survey.shape[0]\n",
    "fused_inc = fused[\"income\"].value_counts() / fused.shape[0]\n",
    "\n",
    "compare_distributions(measured_inc, fused_inc)"
   ]
  },
  {
   "cell_type": "markdown",
   "metadata": {},
   "outputs": [],
   "source": [
    "From the above summary, we can see we recapture the `income` variable pretty well - as shown by the high degree of `Overlap` and the relatively small distances between the distributions.  This means we can be pretty confident when using `income` from the adjusted panel moving foward."
   ]
  },
  {
   "cell_type": "markdown",
   "metadata": {},
   "outputs": [],
   "source": [
    "Another way to evaluate the fusion results is to inspect the matches themselves and see how close we were on average with respect to the linking variables and scores.  Since `age` and `gender` were critical cells, let's only loook at `children` and `marital`."
   ]
  },
  {
   "cell_type": "code",
   "metadata": {},
   "outputs": [],
   "source": [
    "from datafusionsm.evaluation import demo_accuracy\n",
    "\n",
    "summary, results = demo_accuracy(hd.matches, survey, panel, [\"children\", \"marital\"])\n",
    "print(summary)"
   ]
  },
  {
   "cell_type": "markdown",
   "metadata": {},
   "outputs": [],
   "source": [
    "We can see we did pretty well ensuring close matches.  "
   ]
  }
 ],
 "metadata": {
  "kernelspec": {
   "display_name": "spine-fusion-service-venv",
   "language": "python",
   "name": "spine-fusion-service-venv"
  },
  "language_info": {
   "codemirror_mode": {
    "name": "ipython",
    "version": 3
   },
   "file_extension": ".py",
   "mimetype": "text/x-python",
   "name": "python",
   "nbconvert_exporter": "python",
   "pygments_lexer": "ipython3",
   "version": "3.7.3"
  }
 },
 "nbformat": 4,
 "nbformat_minor": 2
}